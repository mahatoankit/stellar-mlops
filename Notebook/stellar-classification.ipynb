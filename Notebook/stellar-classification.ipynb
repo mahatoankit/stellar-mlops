{
 "cells": [
  {
   "cell_type": "code",
   "execution_count": null,
   "metadata": {
    "_cell_guid": "b1076dfc-b9ad-4769-8c92-a6c4dae69d19",
    "_uuid": "8f2839f25d086af736a60e9eeb907d3b93b6e0e5",
    "execution": {
     "iopub.execute_input": "2022-02-01T12:52:40.61903Z",
     "iopub.status.busy": "2022-02-01T12:52:40.618324Z",
     "iopub.status.idle": "2022-02-01T12:52:40.628916Z",
     "shell.execute_reply": "2022-02-01T12:52:40.628237Z",
     "shell.execute_reply.started": "2022-02-01T12:52:40.618987Z"
    },
    "trusted": true
   },
   "outputs": [],
   "source": [
    "import numpy as np\n",
    "import pandas as pd \n",
    "import matplotlib.pyplot as plt\n",
    "import seaborn as sns\n",
    "\n",
    "import os\n",
    "for dirname, _, filenames in os.walk('/kaggle/input'):\n",
    "    for filename in filenames:\n",
    "        print(os.path.join(dirname, filename))"
   ]
  },
  {
   "cell_type": "code",
   "execution_count": null,
   "metadata": {
    "execution": {
     "iopub.execute_input": "2022-02-01T12:52:40.631165Z",
     "iopub.status.busy": "2022-02-01T12:52:40.630114Z",
     "iopub.status.idle": "2022-02-01T12:52:40.860688Z",
     "shell.execute_reply": "2022-02-01T12:52:40.859775Z",
     "shell.execute_reply.started": "2022-02-01T12:52:40.63113Z"
    },
    "trusted": true
   },
   "outputs": [],
   "source": [
    "df= pd.read_csv(\"/kaggle/input/stellar-classification-dataset-sdss17/star_classification.csv\")"
   ]
  },
  {
   "cell_type": "code",
   "execution_count": null,
   "metadata": {
    "execution": {
     "iopub.execute_input": "2022-02-01T12:52:40.862556Z",
     "iopub.status.busy": "2022-02-01T12:52:40.862021Z",
     "iopub.status.idle": "2022-02-01T12:52:40.884344Z",
     "shell.execute_reply": "2022-02-01T12:52:40.883359Z",
     "shell.execute_reply.started": "2022-02-01T12:52:40.862509Z"
    },
    "trusted": true
   },
   "outputs": [],
   "source": [
    "df.head()"
   ]
  },
  {
   "cell_type": "code",
   "execution_count": null,
   "metadata": {
    "execution": {
     "iopub.execute_input": "2022-02-01T12:52:40.886451Z",
     "iopub.status.busy": "2022-02-01T12:52:40.885692Z",
     "iopub.status.idle": "2022-02-01T12:52:40.908611Z",
     "shell.execute_reply": "2022-02-01T12:52:40.908048Z",
     "shell.execute_reply.started": "2022-02-01T12:52:40.886417Z"
    },
    "trusted": true
   },
   "outputs": [],
   "source": [
    "df.info()"
   ]
  },
  {
   "cell_type": "code",
   "execution_count": null,
   "metadata": {
    "execution": {
     "iopub.execute_input": "2022-02-01T12:52:40.911134Z",
     "iopub.status.busy": "2022-02-01T12:52:40.910633Z",
     "iopub.status.idle": "2022-02-01T12:52:40.924897Z",
     "shell.execute_reply": "2022-02-01T12:52:40.924078Z",
     "shell.execute_reply.started": "2022-02-01T12:52:40.911099Z"
    },
    "trusted": true
   },
   "outputs": [],
   "source": [
    "df[\"class\"].value_counts()"
   ]
  },
  {
   "cell_type": "code",
   "execution_count": null,
   "metadata": {
    "execution": {
     "iopub.execute_input": "2022-02-01T12:52:40.926479Z",
     "iopub.status.busy": "2022-02-01T12:52:40.926285Z",
     "iopub.status.idle": "2022-02-01T12:52:40.970574Z",
     "shell.execute_reply": "2022-02-01T12:52:40.969742Z",
     "shell.execute_reply.started": "2022-02-01T12:52:40.926456Z"
    },
    "trusted": true
   },
   "outputs": [],
   "source": [
    "df[\"class\"]=[0 if i == \"GALAXY\" else 1 if i == \"STAR\" else 2 for i in df[\"class\"]]"
   ]
  },
  {
   "cell_type": "code",
   "execution_count": null,
   "metadata": {
    "execution": {
     "iopub.execute_input": "2022-02-01T12:52:40.972455Z",
     "iopub.status.busy": "2022-02-01T12:52:40.971966Z",
     "iopub.status.idle": "2022-02-01T12:52:41.169146Z",
     "shell.execute_reply": "2022-02-01T12:52:41.168334Z",
     "shell.execute_reply.started": "2022-02-01T12:52:40.97241Z"
    },
    "trusted": true
   },
   "outputs": [],
   "source": [
    "sns.countplot(df[\"class\"], palette=\"Set3\")\n",
    "plt.title(\"Class \",fontsize=10)\n",
    "plt.show()"
   ]
  },
  {
   "cell_type": "markdown",
   "metadata": {},
   "source": [
    "<a id='2'></a><br>\n",
    "# Detect Outliers"
   ]
  },
  {
   "cell_type": "code",
   "execution_count": null,
   "metadata": {
    "execution": {
     "iopub.execute_input": "2022-02-01T12:52:41.170629Z",
     "iopub.status.busy": "2022-02-01T12:52:41.170223Z",
     "iopub.status.idle": "2022-02-01T12:52:43.547565Z",
     "shell.execute_reply": "2022-02-01T12:52:43.546486Z",
     "shell.execute_reply.started": "2022-02-01T12:52:41.170542Z"
    },
    "trusted": true
   },
   "outputs": [],
   "source": [
    "from sklearn.neighbors import LocalOutlierFactor\n",
    "clf = LocalOutlierFactor()\n",
    "y_pred = clf.fit_predict(df) "
   ]
  },
  {
   "cell_type": "code",
   "execution_count": null,
   "metadata": {
    "execution": {
     "iopub.execute_input": "2022-02-01T12:52:43.54899Z",
     "iopub.status.busy": "2022-02-01T12:52:43.548756Z",
     "iopub.status.idle": "2022-02-01T12:52:43.56325Z",
     "shell.execute_reply": "2022-02-01T12:52:43.562374Z",
     "shell.execute_reply.started": "2022-02-01T12:52:43.548962Z"
    },
    "trusted": true
   },
   "outputs": [],
   "source": [
    "x_score = clf.negative_outlier_factor_\n",
    "outlier_score = pd.DataFrame()\n",
    "outlier_score[\"score\"] = x_score\n",
    "\n",
    "#threshold\n",
    "threshold2 = -1.5                                            \n",
    "filtre2 = outlier_score[\"score\"] < threshold2\n",
    "outlier_index = outlier_score[filtre2].index.tolist()"
   ]
  },
  {
   "cell_type": "code",
   "execution_count": null,
   "metadata": {
    "execution": {
     "iopub.execute_input": "2022-02-01T12:52:43.564935Z",
     "iopub.status.busy": "2022-02-01T12:52:43.564717Z",
     "iopub.status.idle": "2022-02-01T12:52:43.570063Z",
     "shell.execute_reply": "2022-02-01T12:52:43.569285Z",
     "shell.execute_reply.started": "2022-02-01T12:52:43.564909Z"
    },
    "trusted": true
   },
   "outputs": [],
   "source": [
    "len(outlier_index)"
   ]
  },
  {
   "cell_type": "code",
   "execution_count": null,
   "metadata": {
    "execution": {
     "iopub.execute_input": "2022-02-01T12:52:43.571876Z",
     "iopub.status.busy": "2022-02-01T12:52:43.57154Z",
     "iopub.status.idle": "2022-02-01T12:52:43.590737Z",
     "shell.execute_reply": "2022-02-01T12:52:43.589622Z",
     "shell.execute_reply.started": "2022-02-01T12:52:43.571838Z"
    },
    "trusted": true
   },
   "outputs": [],
   "source": [
    "df.drop(outlier_index, inplace=True)"
   ]
  },
  {
   "cell_type": "markdown",
   "metadata": {},
   "source": [
    "<a id='3'></a><br>\n",
    "# Feature Selection"
   ]
  },
  {
   "cell_type": "code",
   "execution_count": null,
   "metadata": {
    "execution": {
     "iopub.execute_input": "2022-02-01T12:52:43.592764Z",
     "iopub.status.busy": "2022-02-01T12:52:43.59209Z",
     "iopub.status.idle": "2022-02-01T12:52:44.972698Z",
     "shell.execute_reply": "2022-02-01T12:52:44.972043Z",
     "shell.execute_reply.started": "2022-02-01T12:52:43.592728Z"
    },
    "trusted": true
   },
   "outputs": [],
   "source": [
    "import seaborn as sns\n",
    "f,ax = plt.subplots(figsize=(12,8))\n",
    "sns.heatmap(df.corr(), cmap=\"PuBu\", annot=True, linewidths=0.5, fmt= '.2f',ax=ax)\n",
    "plt.show()"
   ]
  },
  {
   "cell_type": "code",
   "execution_count": null,
   "metadata": {
    "execution": {
     "iopub.execute_input": "2022-02-01T12:52:44.974074Z",
     "iopub.status.busy": "2022-02-01T12:52:44.973738Z",
     "iopub.status.idle": "2022-02-01T12:52:45.05972Z",
     "shell.execute_reply": "2022-02-01T12:52:45.059016Z",
     "shell.execute_reply.started": "2022-02-01T12:52:44.974046Z"
    },
    "trusted": true
   },
   "outputs": [],
   "source": [
    "corr = df.corr()"
   ]
  },
  {
   "cell_type": "code",
   "execution_count": null,
   "metadata": {
    "execution": {
     "iopub.execute_input": "2022-02-01T12:52:45.062936Z",
     "iopub.status.busy": "2022-02-01T12:52:45.062687Z",
     "iopub.status.idle": "2022-02-01T12:52:45.07014Z",
     "shell.execute_reply": "2022-02-01T12:52:45.06933Z",
     "shell.execute_reply.started": "2022-02-01T12:52:45.062907Z"
    },
    "trusted": true
   },
   "outputs": [],
   "source": [
    "corr[\"class\"].sort_values()"
   ]
  },
  {
   "cell_type": "code",
   "execution_count": null,
   "metadata": {
    "execution": {
     "iopub.execute_input": "2022-02-01T12:52:45.071492Z",
     "iopub.status.busy": "2022-02-01T12:52:45.071257Z",
     "iopub.status.idle": "2022-02-01T12:52:45.084571Z",
     "shell.execute_reply": "2022-02-01T12:52:45.083663Z",
     "shell.execute_reply.started": "2022-02-01T12:52:45.071456Z"
    },
    "trusted": true
   },
   "outputs": [],
   "source": [
    "df = df.drop(['obj_ID','alpha','delta','run_ID','rerun_ID','cam_col','field_ID','fiber_ID'], axis = 1)"
   ]
  },
  {
   "cell_type": "markdown",
   "metadata": {},
   "source": [
    "<a id='4'></a><br>\n",
    "# Dealing with Imbalanced Data"
   ]
  },
  {
   "cell_type": "code",
   "execution_count": null,
   "metadata": {
    "execution": {
     "iopub.execute_input": "2022-02-01T12:52:45.086237Z",
     "iopub.status.busy": "2022-02-01T12:52:45.085931Z",
     "iopub.status.idle": "2022-02-01T12:52:45.096571Z",
     "shell.execute_reply": "2022-02-01T12:52:45.09577Z",
     "shell.execute_reply.started": "2022-02-01T12:52:45.086211Z"
    },
    "trusted": true
   },
   "outputs": [],
   "source": [
    "from imblearn.over_sampling import SMOTE\n",
    "from collections import Counter"
   ]
  },
  {
   "cell_type": "code",
   "execution_count": null,
   "metadata": {
    "execution": {
     "iopub.execute_input": "2022-02-01T12:52:45.097958Z",
     "iopub.status.busy": "2022-02-01T12:52:45.097732Z",
     "iopub.status.idle": "2022-02-01T12:52:45.111387Z",
     "shell.execute_reply": "2022-02-01T12:52:45.110622Z",
     "shell.execute_reply.started": "2022-02-01T12:52:45.097932Z"
    },
    "trusted": true
   },
   "outputs": [],
   "source": [
    "x = df.drop(['class'], axis = 1)\n",
    "y = df.loc[:,'class'].values"
   ]
  },
  {
   "cell_type": "code",
   "execution_count": null,
   "metadata": {
    "execution": {
     "iopub.execute_input": "2022-02-01T12:52:45.113145Z",
     "iopub.status.busy": "2022-02-01T12:52:45.11273Z",
     "iopub.status.idle": "2022-02-01T12:52:45.400209Z",
     "shell.execute_reply": "2022-02-01T12:52:45.399339Z",
     "shell.execute_reply.started": "2022-02-01T12:52:45.113104Z"
    },
    "trusted": true
   },
   "outputs": [],
   "source": [
    "sm = SMOTE(random_state=42)\n",
    "print('Original dataset shape %s' % Counter(y))\n",
    "x, y = sm.fit_resample(x, y)\n",
    "print('Resampled dataset shape %s' % Counter(y))"
   ]
  },
  {
   "cell_type": "code",
   "execution_count": null,
   "metadata": {
    "execution": {
     "iopub.execute_input": "2022-02-01T12:52:45.401565Z",
     "iopub.status.busy": "2022-02-01T12:52:45.401358Z",
     "iopub.status.idle": "2022-02-01T12:52:45.586712Z",
     "shell.execute_reply": "2022-02-01T12:52:45.58566Z",
     "shell.execute_reply.started": "2022-02-01T12:52:45.401541Z"
    },
    "trusted": true
   },
   "outputs": [],
   "source": [
    "sns.countplot(y, palette='Set3')\n",
    "plt.title(\"Class \",fontsize=10)\n",
    "plt.show()"
   ]
  },
  {
   "cell_type": "markdown",
   "metadata": {},
   "source": [
    "<a id='5'></a><br>\n",
    "# Data Scaling"
   ]
  },
  {
   "cell_type": "code",
   "execution_count": null,
   "metadata": {
    "execution": {
     "iopub.execute_input": "2022-02-01T12:52:45.588306Z",
     "iopub.status.busy": "2022-02-01T12:52:45.58808Z",
     "iopub.status.idle": "2022-02-01T12:52:45.628365Z",
     "shell.execute_reply": "2022-02-01T12:52:45.627564Z",
     "shell.execute_reply.started": "2022-02-01T12:52:45.588278Z"
    },
    "trusted": true
   },
   "outputs": [],
   "source": [
    "from sklearn.preprocessing import StandardScaler\n",
    "scaler = StandardScaler()\n",
    "scaler.fit(x)\n",
    "x = scaler.transform(x)"
   ]
  },
  {
   "cell_type": "markdown",
   "metadata": {},
   "source": [
    "<a id='6'></a><br>\n",
    "# Import Libraries"
   ]
  },
  {
   "cell_type": "code",
   "execution_count": null,
   "metadata": {
    "execution": {
     "iopub.execute_input": "2022-02-01T12:52:45.629833Z",
     "iopub.status.busy": "2022-02-01T12:52:45.629631Z",
     "iopub.status.idle": "2022-02-01T12:52:45.634028Z",
     "shell.execute_reply": "2022-02-01T12:52:45.633382Z",
     "shell.execute_reply.started": "2022-02-01T12:52:45.629809Z"
    },
    "trusted": true
   },
   "outputs": [],
   "source": [
    "from sklearn.ensemble import RandomForestClassifier\n",
    "from sklearn import svm\n",
    "from sklearn.metrics import confusion_matrix, classification_report\n",
    "\n",
    "\n",
    "from yellowbrick.classifier import ConfusionMatrix\n",
    "from yellowbrick.classifier import ClassPredictionError\n",
    "from yellowbrick.classifier import ROCAUC\n",
    "from yellowbrick.style import set_palette"
   ]
  },
  {
   "cell_type": "markdown",
   "metadata": {},
   "source": [
    "<a id='7'></a><br>\n",
    "# Train / Test Split"
   ]
  },
  {
   "cell_type": "code",
   "execution_count": null,
   "metadata": {
    "execution": {
     "iopub.execute_input": "2022-02-01T12:52:45.635582Z",
     "iopub.status.busy": "2022-02-01T12:52:45.634944Z",
     "iopub.status.idle": "2022-02-01T12:52:45.664171Z",
     "shell.execute_reply": "2022-02-01T12:52:45.663497Z",
     "shell.execute_reply.started": "2022-02-01T12:52:45.635541Z"
    },
    "trusted": true
   },
   "outputs": [],
   "source": [
    "from sklearn.model_selection import train_test_split\n",
    "x_train, x_test, y_train, y_test = train_test_split(x, y, test_size = 0.33, random_state = 42)"
   ]
  },
  {
   "cell_type": "markdown",
   "metadata": {},
   "source": [
    "<a id='8'></a><br>\n",
    "# Classifiers"
   ]
  },
  {
   "cell_type": "markdown",
   "metadata": {},
   "source": [
    "<a id='9'></a><br>\n",
    "## SVM Classifier "
   ]
  },
  {
   "cell_type": "code",
   "execution_count": null,
   "metadata": {
    "execution": {
     "iopub.execute_input": "2022-02-01T12:52:45.665685Z",
     "iopub.status.busy": "2022-02-01T12:52:45.665121Z",
     "iopub.status.idle": "2022-02-01T12:53:58.036259Z",
     "shell.execute_reply": "2022-02-01T12:53:58.035664Z",
     "shell.execute_reply.started": "2022-02-01T12:52:45.66565Z"
    },
    "trusted": true
   },
   "outputs": [],
   "source": [
    "svm_clf = svm.SVC(kernel='rbf', C=1, random_state=0)\n",
    "svm_clf.fit(x_train,y_train)\n",
    "predicted = svm_clf.predict(x_test)\n",
    "score = svm_clf.score(x_test, y_test)\n",
    "svm_score_ = np.mean(score)\n",
    "\n",
    "print('Accuracy : %.3f' % (svm_score_))"
   ]
  },
  {
   "cell_type": "code",
   "execution_count": null,
   "metadata": {
    "execution": {
     "iopub.execute_input": "2022-02-01T12:53:58.037387Z",
     "iopub.status.busy": "2022-02-01T12:53:58.037096Z",
     "iopub.status.idle": "2022-02-01T12:53:58.040392Z",
     "shell.execute_reply": "2022-02-01T12:53:58.039867Z",
     "shell.execute_reply.started": "2022-02-01T12:53:58.037361Z"
    },
    "trusted": true
   },
   "outputs": [],
   "source": [
    "classes = ['GALAXY','STAR','QSO']"
   ]
  },
  {
   "cell_type": "markdown",
   "metadata": {},
   "source": [
    "<a id='10'></a><br>\n",
    "### Confusion Matrix"
   ]
  },
  {
   "cell_type": "code",
   "execution_count": null,
   "metadata": {
    "execution": {
     "iopub.execute_input": "2022-02-01T12:53:58.041389Z",
     "iopub.status.busy": "2022-02-01T12:53:58.041206Z",
     "iopub.status.idle": "2022-02-01T12:54:28.205466Z",
     "shell.execute_reply": "2022-02-01T12:54:28.20428Z",
     "shell.execute_reply.started": "2022-02-01T12:53:58.041365Z"
    },
    "trusted": true
   },
   "outputs": [],
   "source": [
    "svm_cm = ConfusionMatrix(svm_clf, classes=classes, cmap='GnBu')\n",
    "\n",
    "svm_cm.fit(x_train, y_train)\n",
    "svm_cm.score(x_test, y_test)\n",
    "svm_cm.show()"
   ]
  },
  {
   "cell_type": "markdown",
   "metadata": {},
   "source": [
    "<a id='11'></a><br>\n",
    "### Classification Report"
   ]
  },
  {
   "cell_type": "code",
   "execution_count": null,
   "metadata": {
    "execution": {
     "iopub.execute_input": "2022-02-01T12:54:28.207833Z",
     "iopub.status.busy": "2022-02-01T12:54:28.207438Z",
     "iopub.status.idle": "2022-02-01T12:54:28.30036Z",
     "shell.execute_reply": "2022-02-01T12:54:28.29965Z",
     "shell.execute_reply.started": "2022-02-01T12:54:28.207788Z"
    },
    "trusted": true
   },
   "outputs": [],
   "source": [
    "print(classification_report(y_test, predicted))"
   ]
  },
  {
   "cell_type": "markdown",
   "metadata": {},
   "source": [
    "<a id='12'></a><br>\n",
    "### ROC Curve"
   ]
  },
  {
   "cell_type": "code",
   "execution_count": null,
   "metadata": {
    "execution": {
     "iopub.execute_input": "2022-02-01T12:54:28.301741Z",
     "iopub.status.busy": "2022-02-01T12:54:28.301501Z",
     "iopub.status.idle": "2022-02-01T12:54:58.343295Z",
     "shell.execute_reply": "2022-02-01T12:54:58.342573Z",
     "shell.execute_reply.started": "2022-02-01T12:54:28.301711Z"
    },
    "trusted": true
   },
   "outputs": [],
   "source": [
    "visualizer = ROCAUC(svm_clf, classes=classes)\n",
    "\n",
    "set_palette('bold')\n",
    "\n",
    "visualizer.fit(x_train, y_train)        # Fit the training data to the visualizer\n",
    "visualizer.score(x_test, y_test)        # Evaluate the model on the test data\n",
    "visualizer.show()                       # Finalize and render the figure"
   ]
  },
  {
   "cell_type": "markdown",
   "metadata": {},
   "source": [
    "<a id='13'></a><br>\n",
    "### Class Prediction Error"
   ]
  },
  {
   "cell_type": "code",
   "execution_count": null,
   "metadata": {
    "execution": {
     "iopub.execute_input": "2022-02-01T12:54:58.344406Z",
     "iopub.status.busy": "2022-02-01T12:54:58.344223Z",
     "iopub.status.idle": "2022-02-01T12:55:28.483371Z",
     "shell.execute_reply": "2022-02-01T12:55:28.482579Z",
     "shell.execute_reply.started": "2022-02-01T12:54:58.344383Z"
    },
    "trusted": true
   },
   "outputs": [],
   "source": [
    "visualizer = ClassPredictionError(svm_clf, classes=classes)\n",
    "\n",
    "set_palette('pastel')\n",
    "\n",
    "visualizer.fit(x_train, y_train)        # Fit the training data to the visualizer\n",
    "visualizer.score(x_test, y_test)        # Evaluate the model on the test data\n",
    "visualizer.show()                       # Draw visualization"
   ]
  },
  {
   "cell_type": "markdown",
   "metadata": {},
   "source": [
    "<a id='14'></a><br>\n",
    "## Random Forest Classifier"
   ]
  },
  {
   "cell_type": "code",
   "execution_count": null,
   "metadata": {
    "execution": {
     "iopub.execute_input": "2022-02-01T12:55:28.485382Z",
     "iopub.status.busy": "2022-02-01T12:55:28.484624Z",
     "iopub.status.idle": "2022-02-01T12:56:05.639101Z",
     "shell.execute_reply": "2022-02-01T12:56:05.63826Z",
     "shell.execute_reply.started": "2022-02-01T12:55:28.485338Z"
    },
    "trusted": true
   },
   "outputs": [],
   "source": [
    "r_forest = RandomForestClassifier()\n",
    "r_forest.fit(x_train,y_train)\n",
    "predicted = r_forest.predict(x_test)\n",
    "score = r_forest.score(x_test, y_test)\n",
    "rf_score_ = np.mean(score)\n",
    "\n",
    "print('Accuracy : %.3f' % (rf_score_))"
   ]
  },
  {
   "cell_type": "markdown",
   "metadata": {},
   "source": [
    "<a id='15'></a><br>\n",
    "### Confusion Matrix"
   ]
  },
  {
   "cell_type": "code",
   "execution_count": null,
   "metadata": {
    "execution": {
     "iopub.execute_input": "2022-02-01T12:56:05.641091Z",
     "iopub.status.busy": "2022-02-01T12:56:05.640491Z",
     "iopub.status.idle": "2022-02-01T12:56:07.373303Z",
     "shell.execute_reply": "2022-02-01T12:56:07.372649Z",
     "shell.execute_reply.started": "2022-02-01T12:56:05.641049Z"
    },
    "trusted": true
   },
   "outputs": [],
   "source": [
    "r_forest_cm = ConfusionMatrix(r_forest, classes=classes, cmap='GnBu')\n",
    "\n",
    "r_forest_cm.fit(x_train, y_train)\n",
    "r_forest_cm.score(x_test, y_test)\n",
    "r_forest_cm.show()"
   ]
  },
  {
   "cell_type": "markdown",
   "metadata": {},
   "source": [
    "<a id='16'></a><br>\n",
    "### Classification Report"
   ]
  },
  {
   "cell_type": "code",
   "execution_count": null,
   "metadata": {
    "execution": {
     "iopub.execute_input": "2022-02-01T12:56:07.375078Z",
     "iopub.status.busy": "2022-02-01T12:56:07.374622Z",
     "iopub.status.idle": "2022-02-01T12:56:07.452948Z",
     "shell.execute_reply": "2022-02-01T12:56:07.452078Z",
     "shell.execute_reply.started": "2022-02-01T12:56:07.375026Z"
    },
    "trusted": true
   },
   "outputs": [],
   "source": [
    "print(classification_report(y_test, predicted))"
   ]
  },
  {
   "cell_type": "markdown",
   "metadata": {},
   "source": [
    "<a id='17'></a><br>\n",
    "### ROC Curve"
   ]
  },
  {
   "cell_type": "code",
   "execution_count": null,
   "metadata": {
    "execution": {
     "iopub.execute_input": "2022-02-01T12:56:07.454902Z",
     "iopub.status.busy": "2022-02-01T12:56:07.454412Z",
     "iopub.status.idle": "2022-02-01T12:56:09.150921Z",
     "shell.execute_reply": "2022-02-01T12:56:09.150144Z",
     "shell.execute_reply.started": "2022-02-01T12:56:07.454862Z"
    },
    "trusted": true
   },
   "outputs": [],
   "source": [
    "visualizer = ROCAUC(r_forest, classes=[\"GALAXY\", \"STAR\", \"QSO\"])\n",
    "\n",
    "set_palette('bold')\n",
    "\n",
    "visualizer.fit(x_train, y_train)       \n",
    "visualizer.score(x_test, y_test)        \n",
    "visualizer.show()                      "
   ]
  },
  {
   "cell_type": "markdown",
   "metadata": {},
   "source": [
    "<a id='18'></a><br>\n",
    "### Class Prediction Error"
   ]
  },
  {
   "cell_type": "code",
   "execution_count": null,
   "metadata": {
    "execution": {
     "iopub.execute_input": "2022-02-01T12:56:09.15296Z",
     "iopub.status.busy": "2022-02-01T12:56:09.152673Z",
     "iopub.status.idle": "2022-02-01T12:56:10.81929Z",
     "shell.execute_reply": "2022-02-01T12:56:10.818664Z",
     "shell.execute_reply.started": "2022-02-01T12:56:09.152922Z"
    },
    "trusted": true
   },
   "outputs": [],
   "source": [
    "visualizer = ClassPredictionError(r_forest, classes=classes)\n",
    "\n",
    "set_palette('pastel')\n",
    "\n",
    "visualizer.fit(x_train, y_train)        \n",
    "visualizer.score(x_test, y_test)        \n",
    "visualizer.show()                       "
   ]
  }
 ],
 "metadata": {
  "kaggle": {
   "accelerator": "none",
   "dataSources": [
    {
     "datasetId": 1866141,
     "sourceId": 3047436,
     "sourceType": "datasetVersion"
    }
   ],
   "dockerImageVersionId": 30157,
   "isGpuEnabled": false,
   "isInternetEnabled": true,
   "language": "python",
   "sourceType": "notebook"
  },
  "kernelspec": {
   "display_name": "Python 3",
   "language": "python",
   "name": "python3"
  },
  "language_info": {
   "codemirror_mode": {
    "name": "ipython",
    "version": 3
   },
   "file_extension": ".py",
   "mimetype": "text/x-python",
   "name": "python",
   "nbconvert_exporter": "python",
   "pygments_lexer": "ipython3",
   "version": "3.6.4"
  }
 },
 "nbformat": 4,
 "nbformat_minor": 4
}
